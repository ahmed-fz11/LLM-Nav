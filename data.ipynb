{
 "cells": [
  {
   "cell_type": "markdown",
   "metadata": {},
   "source": [
    "Explore the DataSet in this Notebook"
   ]
  },
  {
   "cell_type": "code",
   "execution_count": 1,
   "metadata": {},
   "outputs": [],
   "source": [
    "import pandas as pd\n",
    "import os\n",
    "import glob\n",
    "from groq import Groq\n",
    "# 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"
   ]
  },
  {
   "cell_type": "code",
   "execution_count": 2,
   "metadata": {},
   "outputs": [],
   "source": [
    "r2r_dataset = pd.read_json(\"Dataset/R2R_train_updated.json\")\n",
    "original_dataset = r2r_dataset.copy()\n",
    "filtered_dataset = r2r_dataset[r2r_dataset['scan'] == \"5LpN3gDmAk7\"]"
   ]
  },
  {
   "cell_type": "code",
   "execution_count": 3,
   "metadata": {},
   "outputs": [
    {
     "name": "stdout",
     "output_type": "stream",
     "text": [
      "i =  0\n",
      "i =  10\n",
      "i =  20\n",
      "i =  30\n",
      "i =  40\n",
      "i =  50\n",
      "i =  60\n",
      "i =  70\n",
      "i =  80\n"
     ]
    }
   ],
   "source": [
    "import json\n",
    "\n",
    "client = Groq(\n",
    "    api_key=\"\",\n",
    ")\n",
    "\n",
    "output_dicts = []\n",
    "count = 0\n",
    "for i, row in filtered_dataset.iterrows():\n",
    "    instructions_json = json.dumps(row['instructions'], indent=2)\n",
    "    if(count%10 == 0):\n",
    "        print(\"i = \",count)\n",
    "    count+=1\n",
    "    # print(\"Instructions = \", instructions_json)\n",
    "    try:\n",
    "        chat_completion = client.chat.completions.create(\n",
    "        messages=[\n",
    "            {\"role\": \"system\", \"content\": \"\"\"You are a navigation goal statement generator given a list of instructions, generate goal statement without the instructions.that responds in JSON schema which should include a list of dictionaries, where each dictionary has keys 'instruction_index' and 'goal statement'. Generate a list of dictionaries like this example.\"},:\n",
    "        {\n",
    "\"navigation_goals\": [\n",
    "    {\n",
    "        \"instruction_index\": 1,\n",
    "        \"goal_statement\": \"I want to navigate to the Hallway past the kitchen.\"\n",
    "    },\n",
    "    {\n",
    "        \"instruction_index\": 2,\n",
    "        \"goal_statement\": \"I want to navigate to the Hallway past the clear glass table.\"\n",
    "    },\n",
    "    {\n",
    "        \"instruction_index\": 3,\n",
    "        \"goal_statement\": \"I want to navigate to the Hallway past the Counter on the right.\"\n",
    "    }\n",
    "]\n",
    "} \"\"\"},\n",
    "            {\n",
    "                \"role\": \"user\",\n",
    "                \"content\": f\"\"\"\n",
    "            Given the following instructions ,generate a precise goal statement for each instruction, that the robot and generate instructions on his own.Give your answer in a single dictionary, which contains a list dictionaries.Describe the current scene and where to navigate to. The instructions are:\n",
    "            {instructions_json}\n",
    "            Note: Donot give me instructions,just a goal statement telling what the above instructions want to acheive, e.g I am here and want to go to there.\"\"\",\n",
    "            }\n",
    "        ],\n",
    "        response_format={\"type\": \"json_object\"},\n",
    "        model=\"llama3-8b-8192\",\n",
    "    )\n",
    "        # print(chat_completion.choices[0].message.content)\n",
    "        output_dicts.append(chat_completion.choices[0].message.content)\n",
    "    except:\n",
    "        chat_completion = client.chat.completions.create(\n",
    "        messages=[\n",
    "            {\"role\": \"system\", \"content\": \"\"\"You are a navigation goal statement generator given a list of instructions, generate goal statement without the instructions.that responds in JSON schema which should include a list of dictionaries, where each dictionary has keys 'instruction_index' and 'goal statement'. Generate a list of dictionaries like this example.\"},:\n",
    "        {\n",
    "\"navigation_goals\": [\n",
    "    {\n",
    "        \"instruction_index\": 1,\n",
    "        \"goal_statement\": \"I want to navigate to the Hallway past the kitchen.\"\n",
    "    },\n",
    "    {\n",
    "        \"instruction_index\": 2,\n",
    "        \"goal_statement\": \"I want to navigate to the Hallway past the clear glass table.\"\n",
    "    },\n",
    "    {\n",
    "        \"instruction_index\": 3,\n",
    "        \"goal_statement\": \"I want to navigate to the Hallway past the Counter on the right.\"\n",
    "    }\n",
    "]\n",
    "} \"\"\"},\n",
    "            {\n",
    "                \"role\": \"user\",\n",
    "                \"content\": f\"\"\"\n",
    "            Given the following instructions ,generate a precise goal statement for each instruction, that the robot and generate instructions on his own.Give your answer in a single dictionary, which contains a list dictionaries.Describe the current scene and where to navigate to. The instructions are:\n",
    "            {instructions_json}\n",
    "            Note: Donot give me instructions,just a goal statement telling what the above instructions want to acheive, e.g I am here and want to go to there.\"\"\",\n",
    "            }\n",
    "        ],\n",
    "        response_format={\"type\": \"json_object\"},\n",
    "        model=\"llama3-8b-8192\",\n",
    "    )\n",
    "        # print(chat_completion.choices[0].message.content)\n",
    "        output_dicts.append(chat_completion.choices[0].message.content)"
   ]
  },
  {
   "cell_type": "code",
   "execution_count": 4,
   "metadata": {},
   "outputs": [],
   "source": [
    "goalList = []\n",
    "for dic in output_dicts:\n",
    "    goalList.append([inst['goal_statement'] for inst in json.loads(dic)['navigation_goals']])\n",
    "\n",
    "# filtered_dataset['goals'] = None\n",
    "j = 0\n",
    "for i, row in filtered_dataset.iterrows():\n",
    "    filtered_dataset.at[i, 'goals'] = goalList[j]\n",
    "    j+=1\n",
    "    "
   ]
  },
  {
   "cell_type": "code",
   "execution_count": 5,
   "metadata": {},
   "outputs": [
    {
     "name": "stdout",
     "output_type": "stream",
     "text": [
      "Updated dataset saved to Dataset/R2R_train_updated.json\n"
     ]
    }
   ],
   "source": [
    "# original_dataset['goals'] = None\n",
    "for i, row in filtered_dataset.iterrows():\n",
    "    # Find the corresponding row in the original dataset\n",
    "    original_index = original_dataset.index[original_dataset['path_id'] == row['path_id']].tolist()\n",
    "    if original_index:\n",
    "        original_dataset.at[original_index[0], 'goals'] = row['goals']\n",
    "\n",
    "# Save the updated full dataset to a new JSON file\n",
    "updated_full_dataset_path = \"Dataset/R2R_train_updated.json\"\n",
    "original_dataset.to_json(updated_full_dataset_path, orient=\"records\", lines=True)\n",
    "\n",
    "print(f\"Updated dataset saved to {updated_full_dataset_path}\")"
   ]
  },
  {
   "cell_type": "code",
   "execution_count": 7,
   "metadata": {},
   "outputs": [
    {
     "name": "stdout",
     "output_type": "stream",
     "text": [
      "['10c252c90fa24ef3b698c6f54d984c5c', '77a1a11978b04e9cbf74914c98578ab8', 'b185432bf33645aca813ac2a961b4140', '5e9f4f8654574e699480e90ecdd150c8', '08c774f20c984008882da2b8547850eb', 'da5fa65c13e643719a20cbb818c9a85d']\n",
      "['10c252c90fa24ef3b698c6f54d984c5c_i0_5.jpg', '10c252c90fa24ef3b698c6f54d984c5c_i1_0.jpg', '10c252c90fa24ef3b698c6f54d984c5c_i1_1.jpg']\n"
     ]
    }
   ],
   "source": [
    "path = r2r_dataset.iloc[0]['path']\n",
    "\n",
    "print(path)\n",
    "# Specify the directory where your images are stored\n",
    "folder_path = 'Dataset/17DRP5sb8fy/matterport_color_images'\n",
    "\n",
    "# Specify the word the image names should start with\n",
    "start_word = path[0]\n",
    "\n",
    "# Construct the search pattern\n",
    "pattern = os.path.join(folder_path, f'{start_word}*')\n",
    "\n",
    "# Get a list of all image filenames that start with the specific word\n",
    "image_files = glob.glob(pattern)\n",
    "\n",
    "# Print the filenames (only the names, not the full paths)\n",
    "image_names = [os.path.basename(image) for image in image_files]\n",
    "print(image_names[5:8])"
   ]
  }
 ],
 "metadata": {
  "kernelspec": {
   "display_name": "Python 3",
   "language": "python",
   "name": "python3"
  },
  "language_info": {
   "codemirror_mode": {
    "name": "ipython",
    "version": 3
   },
   "file_extension": ".py",
   "mimetype": "text/x-python",
   "name": "python",
   "nbconvert_exporter": "python",
   "pygments_lexer": "ipython3",
   "version": "3.12.1"
  }
 },
 "nbformat": 4,
 "nbformat_minor": 2
}
