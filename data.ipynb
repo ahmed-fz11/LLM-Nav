{
 "cells": [
  {
   "cell_type": "markdown",
   "metadata": {},
   "source": [
    "Explore the DataSet in this Notebook"
   ]
  },
  {
   "cell_type": "code",
   "execution_count": 19,
   "metadata": {},
   "outputs": [],
   "source": [
    "import pandas as pd\n",
    "import os\n",
    "import glob"
   ]
  },
  {
   "cell_type": "code",
   "execution_count": 20,
   "metadata": {},
   "outputs": [
    {
     "data": {
      "text/html": [
       "<div>\n",
       "<style scoped>\n",
       "    .dataframe tbody tr th:only-of-type {\n",
       "        vertical-align: middle;\n",
       "    }\n",
       "\n",
       "    .dataframe tbody tr th {\n",
       "        vertical-align: top;\n",
       "    }\n",
       "\n",
       "    .dataframe thead th {\n",
       "        text-align: right;\n",
       "    }\n",
       "</style>\n",
       "<table border=\"1\" class=\"dataframe\">\n",
       "  <thead>\n",
       "    <tr style=\"text-align: right;\">\n",
       "      <th></th>\n",
       "      <th>distance</th>\n",
       "      <th>scan</th>\n",
       "      <th>path_id</th>\n",
       "      <th>path</th>\n",
       "      <th>heading</th>\n",
       "      <th>instructions</th>\n",
       "    </tr>\n",
       "  </thead>\n",
       "  <tbody>\n",
       "    <tr>\n",
       "      <th>40</th>\n",
       "      <td>6.06</td>\n",
       "      <td>17DRP5sb8fy</td>\n",
       "      <td>3399</td>\n",
       "      <td>[10c252c90fa24ef3b698c6f54d984c5c, 77a1a11978b...</td>\n",
       "      <td>3.506</td>\n",
       "      <td>[Walk past the large picture and chair. Walk p...</td>\n",
       "    </tr>\n",
       "    <tr>\n",
       "      <th>357</th>\n",
       "      <td>6.16</td>\n",
       "      <td>17DRP5sb8fy</td>\n",
       "      <td>5894</td>\n",
       "      <td>[db145474a5fa476d95c2cc7f09e7c83a, 5b9b2794954...</td>\n",
       "      <td>4.610</td>\n",
       "      <td>[Walk to the foot of the bed and to a little s...</td>\n",
       "    </tr>\n",
       "    <tr>\n",
       "      <th>578</th>\n",
       "      <td>8.83</td>\n",
       "      <td>17DRP5sb8fy</td>\n",
       "      <td>2505</td>\n",
       "      <td>[ee59d6b5e5da4def9fe85a8ba94ecf25, 5e9f4f86545...</td>\n",
       "      <td>0.666</td>\n",
       "      <td>[Go straight and slightly right toward the gla...</td>\n",
       "    </tr>\n",
       "    <tr>\n",
       "      <th>1000</th>\n",
       "      <td>7.68</td>\n",
       "      <td>17DRP5sb8fy</td>\n",
       "      <td>6066</td>\n",
       "      <td>[e693b5de8ad84d4cb61a79ece2e66d11, 28db29e8c72...</td>\n",
       "      <td>0.922</td>\n",
       "      <td>[Exit the bathroom, cross the room passed the ...</td>\n",
       "    </tr>\n",
       "    <tr>\n",
       "      <th>1036</th>\n",
       "      <td>5.30</td>\n",
       "      <td>17DRP5sb8fy</td>\n",
       "      <td>2571</td>\n",
       "      <td>[d65b6505904448d1940e679c9a098047, 701f7128272...</td>\n",
       "      <td>1.616</td>\n",
       "      <td>[Go stand behind the middle kitchen island cha...</td>\n",
       "    </tr>\n",
       "  </tbody>\n",
       "</table>\n",
       "</div>"
      ],
      "text/plain": [
       "      distance         scan  path_id  \\\n",
       "40        6.06  17DRP5sb8fy     3399   \n",
       "357       6.16  17DRP5sb8fy     5894   \n",
       "578       8.83  17DRP5sb8fy     2505   \n",
       "1000      7.68  17DRP5sb8fy     6066   \n",
       "1036      5.30  17DRP5sb8fy     2571   \n",
       "\n",
       "                                                   path  heading  \\\n",
       "40    [10c252c90fa24ef3b698c6f54d984c5c, 77a1a11978b...    3.506   \n",
       "357   [db145474a5fa476d95c2cc7f09e7c83a, 5b9b2794954...    4.610   \n",
       "578   [ee59d6b5e5da4def9fe85a8ba94ecf25, 5e9f4f86545...    0.666   \n",
       "1000  [e693b5de8ad84d4cb61a79ece2e66d11, 28db29e8c72...    0.922   \n",
       "1036  [d65b6505904448d1940e679c9a098047, 701f7128272...    1.616   \n",
       "\n",
       "                                           instructions  \n",
       "40    [Walk past the large picture and chair. Walk p...  \n",
       "357   [Walk to the foot of the bed and to a little s...  \n",
       "578   [Go straight and slightly right toward the gla...  \n",
       "1000  [Exit the bathroom, cross the room passed the ...  \n",
       "1036  [Go stand behind the middle kitchen island cha...  "
      ]
     },
     "execution_count": 20,
     "metadata": {},
     "output_type": "execute_result"
    }
   ],
   "source": [
    "r2r_dataset = pd.read_json(\"Dataset/R2R_train.json\")\n",
    "\n",
    "r2r_dataset = r2r_dataset[r2r_dataset['scan'] == \"17DRP5sb8fy\"]\n",
    "\n",
    "r2r_dataset.head()"
   ]
  },
  {
   "cell_type": "code",
   "execution_count": 27,
   "metadata": {},
   "outputs": [
    {
     "name": "stdout",
     "output_type": "stream",
     "text": [
      "['10c252c90fa24ef3b698c6f54d984c5c', '77a1a11978b04e9cbf74914c98578ab8', 'b185432bf33645aca813ac2a961b4140', '5e9f4f8654574e699480e90ecdd150c8', '08c774f20c984008882da2b8547850eb', 'da5fa65c13e643719a20cbb818c9a85d']\n",
      "['10c252c90fa24ef3b698c6f54d984c5c_i0_5.jpg', '10c252c90fa24ef3b698c6f54d984c5c_i1_0.jpg', '10c252c90fa24ef3b698c6f54d984c5c_i1_1.jpg']\n",
      "['You are an LLM Planner, design to take in an end goal,and summary of what has happened before.This is given to you in JSON format. You are also given multiple images, which tell you about the current scene. Use these images, the end goal and the summary to give a sentence on what we should do next to acheive the end goal.', 'Human: <image> <image> <image> <image> <image> <image> <image> <image> <image> <image> <image> <image> <image> <image> <image> <image> <image> <image>\\n<prompt>', 'Assistant:']\n"
     ]
    }
   ],
   "source": [
    "path = r2r_dataset.iloc[0]['path']\n",
    "\n",
    "print(path)\n",
    "# Specify the directory where your images are stored\n",
    "folder_path = 'Dataset/17DRP5sb8fy/matterport_color_images'\n",
    "\n",
    "# Specify the word the image names should start with\n",
    "start_word = path[0]\n",
    "\n",
    "# Construct the search pattern\n",
    "pattern = os.path.join(folder_path, f'{start_word}*')\n",
    "\n",
    "# Get a list of all image filenames that start with the specific word\n",
    "image_files = glob.glob(pattern)\n",
    "\n",
    "# Print the filenames (only the names, not the full paths)\n",
    "image_names = [os.path.basename(image) for image in image_files]\n",
    "print(image_names[5:8])\n",
    "\n",
    "chat_template = \"You are an LLM Planner, design to take in an end goal,and summary of what has happened before.This is given to you in JSON format. You are also given multiple images, which tell you about the current scene. Use these images, the end goal and the summary to give a sentence on what we should do next to acheive the end goal.###Human: \"+(\" \").join([\"<image>\" for image_name in image_names])+\"\\n<prompt>###Assistant:\"\n",
    "\n",
    "print(chat_template.split(\"###\"))"
   ]
  }
 ],
 "metadata": {
  "kernelspec": {
   "display_name": "Python 3",
   "language": "python",
   "name": "python3"
  },
  "language_info": {
   "codemirror_mode": {
    "name": "ipython",
    "version": 3
   },
   "file_extension": ".py",
   "mimetype": "text/x-python",
   "name": "python",
   "nbconvert_exporter": "python",
   "pygments_lexer": "ipython3",
   "version": "3.12.1"
  }
 },
 "nbformat": 4,
 "nbformat_minor": 2
}
