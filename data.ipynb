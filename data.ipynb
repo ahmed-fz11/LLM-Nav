{
 "cells": [
  {
   "cell_type": "markdown",
   "metadata": {},
   "source": [
    "Explore the DataSet in this Notebook"
   ]
  },
  {
   "cell_type": "code",
   "execution_count": 1,
   "metadata": {},
   "outputs": [],
   "source": [
    "import pandas as pd\n",
    "import os\n",
    "import glob\n",
    "from groq import Groq\n",
    "# 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"
   ]
  },
  {
   "cell_type": "code",
   "execution_count": 2,
   "metadata": {},
   "outputs": [],
   "source": [
    "r2r_dataset = pd.read_json(\"Dataset/R2R_train_updated.json\")\n",
    "original_dataset = r2r_dataset.copy()\n",
    "filtered_dataset = r2r_dataset[r2r_dataset['scan'] == \"5LpN3gDmAk7\"]"
   ]
  },
  {
   "cell_type": "code",
   "execution_count": 3,
   "metadata": {},
   "outputs": [
    {
     "name": "stdout",
     "output_type": "stream",
     "text": [
      "i =  0\n",
      "i =  10\n",
      "i =  20\n",
      "i =  30\n",
      "i =  40\n",
      "i =  50\n",
      "i =  60\n",
      "i =  70\n",
      "i =  80\n"
     ]
    }
   ],
   "source": [
    "import json\n",
    "\n",
    "client = Groq(\n",
    "    api_key=\"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\",\n",
    ")\n",
    "\n",
    "output_dicts = []\n",
    "count = 0\n",
    "for i, row in filtered_dataset.iterrows():\n",
    "    instructions_json = json.dumps(row['instructions'], indent=2)\n",
    "    if(count%10 == 0):\n",
    "        print(\"i = \",count)\n",
    "    count+=1\n",
    "    # print(\"Instructions = \", instructions_json)\n",
    "    try:\n",
    "        chat_completion = client.chat.completions.create(\n",
    "        messages=[\n",
    "            {\"role\": \"system\", \"content\": \"\"\"You are a navigation goal statement generator given a list of instructions, generate goal statement without the instructions.that responds in JSON schema which should include a list of dictionaries, where each dictionary has keys 'instruction_index' and 'goal statement'. Generate a list of dictionaries like this example.\"},:\n",
    "        {\n",
    "\"navigation_goals\": [\n",
    "    {\n",
    "        \"instruction_index\": 1,\n",
    "        \"goal_statement\": \"I want to navigate to the Hallway past the kitchen.\"\n",
    "    },\n",
    "    {\n",
    "        \"instruction_index\": 2,\n",
    "        \"goal_statement\": \"I want to navigate to the Hallway past the clear glass table.\"\n",
    "    },\n",
    "    {\n",
    "        \"instruction_index\": 3,\n",
    "        \"goal_statement\": \"I want to navigate to the Hallway past the Counter on the right.\"\n",
    "    }\n",
    "]\n",
    "} \"\"\"},\n",
    "            {\n",
    "                \"role\": \"user\",\n",
    "                \"content\": f\"\"\"\n",
    "            Given the following instructions ,generate a precise goal statement for each instruction, that the robot and generate instructions on his own.Give your answer in a single dictionary, which contains a list dictionaries.Describe the current scene and where to navigate to. The instructions are:\n",
    "            {instructions_json}\n",
    "            Note: Donot give me instructions,just a goal statement telling what the above instructions want to acheive, e.g I am here and want to go to there.\"\"\",\n",
    "            }\n",
    "        ],\n",
    "        response_format={\"type\": \"json_object\"},\n",
    "        model=\"llama3-8b-8192\",\n",
    "    )\n",
    "        # print(chat_completion.choices[0].message.content)\n",
    "        output_dicts.append(chat_completion.choices[0].message.content)\n",
    "    except:\n",
    "        chat_completion = client.chat.completions.create(\n",
    "        messages=[\n",
    "            {\"role\": \"system\", \"content\": \"\"\"You are a navigation goal statement generator given a list of instructions, generate goal statement without the instructions.that responds in JSON schema which should include a list of dictionaries, where each dictionary has keys 'instruction_index' and 'goal statement'. Generate a list of dictionaries like this example.\"},:\n",
    "        {\n",
    "\"navigation_goals\": [\n",
    "    {\n",
    "        \"instruction_index\": 1,\n",
    "        \"goal_statement\": \"I want to navigate to the Hallway past the kitchen.\"\n",
    "    },\n",
    "    {\n",
    "        \"instruction_index\": 2,\n",
    "        \"goal_statement\": \"I want to navigate to the Hallway past the clear glass table.\"\n",
    "    },\n",
    "    {\n",
    "        \"instruction_index\": 3,\n",
    "        \"goal_statement\": \"I want to navigate to the Hallway past the Counter on the right.\"\n",
    "    }\n",
    "]\n",
    "} \"\"\"},\n",
    "            {\n",
    "                \"role\": \"user\",\n",
    "                \"content\": f\"\"\"\n",
    "            Given the following instructions ,generate a precise goal statement for each instruction, that the robot and generate instructions on his own.Give your answer in a single dictionary, which contains a list dictionaries.Describe the current scene and where to navigate to. The instructions are:\n",
    "            {instructions_json}\n",
    "            Note: Donot give me instructions,just a goal statement telling what the above instructions want to acheive, e.g I am here and want to go to there.\"\"\",\n",
    "            }\n",
    "        ],\n",
    "        response_format={\"type\": \"json_object\"},\n",
    "        model=\"llama3-8b-8192\",\n",
    "    )\n",
    "        # print(chat_completion.choices[0].message.content)\n",
    "        output_dicts.append(chat_completion.choices[0].message.content)"
   ]
  },
  {
   "cell_type": "code",
   "execution_count": 4,
   "metadata": {},
   "outputs": [],
   "source": [
    "goalList = []\n",
    "for dic in output_dicts:\n",
    "    goalList.append([inst['goal_statement'] for inst in json.loads(dic)['navigation_goals']])\n",
    "\n",
    "# filtered_dataset['goals'] = None\n",
    "j = 0\n",
    "for i, row in filtered_dataset.iterrows():\n",
    "    filtered_dataset.at[i, 'goals'] = goalList[j]\n",
    "    j+=1\n",
    "    "
   ]
  },
  {
   "cell_type": "code",
   "execution_count": 5,
   "metadata": {},
   "outputs": [
    {
     "name": "stdout",
     "output_type": "stream",
     "text": [
      "Updated dataset saved to Dataset/R2R_train_updated.json\n"
     ]
    }
   ],
   "source": [
    "# original_dataset['goals'] = None\n",
    "for i, row in filtered_dataset.iterrows():\n",
    "    # Find the corresponding row in the original dataset\n",
    "    original_index = original_dataset.index[original_dataset['path_id'] == row['path_id']].tolist()\n",
    "    if original_index:\n",
    "        original_dataset.at[original_index[0], 'goals'] = row['goals']\n",
    "\n",
    "# Save the updated full dataset to a new JSON file\n",
    "updated_full_dataset_path = \"Dataset/R2R_train_updated.json\"\n",
    "original_dataset.to_json(updated_full_dataset_path, orient=\"records\", lines=True)\n",
    "\n",
    "print(f\"Updated dataset saved to {updated_full_dataset_path}\")"
   ]
  },
  {
   "cell_type": "code",
   "execution_count": 7,
   "metadata": {},
   "outputs": [
    {
     "name": "stdout",
     "output_type": "stream",
     "text": [
      "['10c252c90fa24ef3b698c6f54d984c5c', '77a1a11978b04e9cbf74914c98578ab8', 'b185432bf33645aca813ac2a961b4140', '5e9f4f8654574e699480e90ecdd150c8', '08c774f20c984008882da2b8547850eb', 'da5fa65c13e643719a20cbb818c9a85d']\n",
      "['10c252c90fa24ef3b698c6f54d984c5c_i0_5.jpg', '10c252c90fa24ef3b698c6f54d984c5c_i1_0.jpg', '10c252c90fa24ef3b698c6f54d984c5c_i1_1.jpg']\n"
     ]
    }
   ],
   "source": [
    "path = r2r_dataset.iloc[0]['path']\n",
    "\n",
    "print(path)\n",
    "# Specify the directory where your images are stored\n",
    "folder_path = 'Dataset/17DRP5sb8fy/matterport_color_images'\n",
    "\n",
    "# Specify the word the image names should start with\n",
    "start_word = path[0]\n",
    "\n",
    "# Construct the search pattern\n",
    "pattern = os.path.join(folder_path, f'{start_word}*')\n",
    "\n",
    "# Get a list of all image filenames that start with the specific word\n",
    "image_files = glob.glob(pattern)\n",
    "\n",
    "# Print the filenames (only the names, not the full paths)\n",
    "image_names = [os.path.basename(image) for image in image_files]\n",
    "print(image_names[5:8])"
   ]
  },
  {
   "cell_type": "markdown",
   "metadata": {},
   "source": [
    "# Generated Goals and Dataset Intrsuctions Similarity Check"
   ]
  },
  {
   "cell_type": "code",
   "execution_count": 12,
   "metadata": {},
   "outputs": [
    {
     "name": "stderr",
     "output_type": "stream",
     "text": [
      "huggingface/tokenizers: The current process just got forked, after parallelism has already been used. Disabling parallelism to avoid deadlocks...\n",
      "To disable this warning, you can either:\n",
      "\t- Avoid using `tokenizers` before the fork if possible\n",
      "\t- Explicitly set the environment variable TOKENIZERS_PARALLELISM=(true | false)\n"
     ]
    },
    {
     "name": "stdout",
     "output_type": "stream",
     "text": [
      "Requirement already satisfied: sentence-transformers in /Library/Frameworks/Python.framework/Versions/3.12/lib/python3.12/site-packages (3.0.1)\n",
      "Requirement already satisfied: transformers<5.0.0,>=4.34.0 in /Library/Frameworks/Python.framework/Versions/3.12/lib/python3.12/site-packages (from sentence-transformers) (4.44.2)\n",
      "Requirement already satisfied: tqdm in /Library/Frameworks/Python.framework/Versions/3.12/lib/python3.12/site-packages (from sentence-transformers) (4.66.5)\n",
      "Requirement already satisfied: torch>=1.11.0 in /Library/Frameworks/Python.framework/Versions/3.12/lib/python3.12/site-packages (from sentence-transformers) (2.4.1)\n",
      "Requirement already satisfied: numpy in /Library/Frameworks/Python.framework/Versions/3.12/lib/python3.12/site-packages (from sentence-transformers) (2.1.1)\n",
      "Requirement already satisfied: scikit-learn in /Library/Frameworks/Python.framework/Versions/3.12/lib/python3.12/site-packages (from sentence-transformers) (1.5.1)\n",
      "Requirement already satisfied: scipy in /Library/Frameworks/Python.framework/Versions/3.12/lib/python3.12/site-packages (from sentence-transformers) (1.14.1)\n",
      "Requirement already satisfied: huggingface-hub>=0.15.1 in /Library/Frameworks/Python.framework/Versions/3.12/lib/python3.12/site-packages (from sentence-transformers) (0.24.6)\n",
      "Requirement already satisfied: Pillow in /Library/Frameworks/Python.framework/Versions/3.12/lib/python3.12/site-packages (from sentence-transformers) (10.4.0)\n",
      "Requirement already satisfied: filelock in /Library/Frameworks/Python.framework/Versions/3.12/lib/python3.12/site-packages (from huggingface-hub>=0.15.1->sentence-transformers) (3.15.4)\n",
      "Requirement already satisfied: fsspec>=2023.5.0 in /Library/Frameworks/Python.framework/Versions/3.12/lib/python3.12/site-packages (from huggingface-hub>=0.15.1->sentence-transformers) (2024.9.0)\n",
      "Requirement already satisfied: packaging>=20.9 in /Users/mz/Library/Python/3.12/lib/python/site-packages (from huggingface-hub>=0.15.1->sentence-transformers) (24.1)\n",
      "Requirement already satisfied: pyyaml>=5.1 in /Library/Frameworks/Python.framework/Versions/3.12/lib/python3.12/site-packages (from huggingface-hub>=0.15.1->sentence-transformers) (6.0.2)\n",
      "Requirement already satisfied: requests in /Library/Frameworks/Python.framework/Versions/3.12/lib/python3.12/site-packages (from huggingface-hub>=0.15.1->sentence-transformers) (2.32.3)\n",
      "Requirement already satisfied: typing-extensions>=3.7.4.3 in /Library/Frameworks/Python.framework/Versions/3.12/lib/python3.12/site-packages (from huggingface-hub>=0.15.1->sentence-transformers) (4.12.2)\n",
      "Requirement already satisfied: sympy in /Library/Frameworks/Python.framework/Versions/3.12/lib/python3.12/site-packages (from torch>=1.11.0->sentence-transformers) (1.13.2)\n",
      "Requirement already satisfied: networkx in /Library/Frameworks/Python.framework/Versions/3.12/lib/python3.12/site-packages (from torch>=1.11.0->sentence-transformers) (3.3)\n",
      "Requirement already satisfied: jinja2 in /Library/Frameworks/Python.framework/Versions/3.12/lib/python3.12/site-packages (from torch>=1.11.0->sentence-transformers) (3.1.4)\n",
      "Requirement already satisfied: setuptools in /Library/Frameworks/Python.framework/Versions/3.12/lib/python3.12/site-packages (from torch>=1.11.0->sentence-transformers) (74.1.2)\n",
      "Requirement already satisfied: regex!=2019.12.17 in /Library/Frameworks/Python.framework/Versions/3.12/lib/python3.12/site-packages (from transformers<5.0.0,>=4.34.0->sentence-transformers) (2024.7.24)\n",
      "Requirement already satisfied: safetensors>=0.4.1 in /Library/Frameworks/Python.framework/Versions/3.12/lib/python3.12/site-packages (from transformers<5.0.0,>=4.34.0->sentence-transformers) (0.4.4)\n",
      "Requirement already satisfied: tokenizers<0.20,>=0.19 in /Library/Frameworks/Python.framework/Versions/3.12/lib/python3.12/site-packages (from transformers<5.0.0,>=4.34.0->sentence-transformers) (0.19.1)\n",
      "Requirement already satisfied: joblib>=1.2.0 in /Library/Frameworks/Python.framework/Versions/3.12/lib/python3.12/site-packages (from scikit-learn->sentence-transformers) (1.4.2)\n",
      "Requirement already satisfied: threadpoolctl>=3.1.0 in /Library/Frameworks/Python.framework/Versions/3.12/lib/python3.12/site-packages (from scikit-learn->sentence-transformers) (3.5.0)\n",
      "Requirement already satisfied: MarkupSafe>=2.0 in /Library/Frameworks/Python.framework/Versions/3.12/lib/python3.12/site-packages (from jinja2->torch>=1.11.0->sentence-transformers) (2.1.5)\n",
      "Requirement already satisfied: charset-normalizer<4,>=2 in /Library/Frameworks/Python.framework/Versions/3.12/lib/python3.12/site-packages (from requests->huggingface-hub>=0.15.1->sentence-transformers) (3.3.2)\n",
      "Requirement already satisfied: idna<4,>=2.5 in /Library/Frameworks/Python.framework/Versions/3.12/lib/python3.12/site-packages (from requests->huggingface-hub>=0.15.1->sentence-transformers) (3.8)\n",
      "Requirement already satisfied: urllib3<3,>=1.21.1 in /Library/Frameworks/Python.framework/Versions/3.12/lib/python3.12/site-packages (from requests->huggingface-hub>=0.15.1->sentence-transformers) (2.2.2)\n",
      "Requirement already satisfied: certifi>=2017.4.17 in /Library/Frameworks/Python.framework/Versions/3.12/lib/python3.12/site-packages (from requests->huggingface-hub>=0.15.1->sentence-transformers) (2024.8.30)\n",
      "Requirement already satisfied: mpmath<1.4,>=1.1.0 in /Library/Frameworks/Python.framework/Versions/3.12/lib/python3.12/site-packages (from sympy->torch>=1.11.0->sentence-transformers) (1.3.0)\n"
     ]
    }
   ],
   "source": [
    "!pip3 install sentence-transformers"
   ]
  },
  {
   "cell_type": "code",
   "execution_count": 22,
   "metadata": {},
   "outputs": [
    {
     "name": "stderr",
     "output_type": "stream",
     "text": [
      "/Library/Frameworks/Python.framework/Versions/3.12/lib/python3.12/site-packages/transformers/tokenization_utils_base.py:1601: FutureWarning: `clean_up_tokenization_spaces` was not set. It will be set to `True` by default. This behavior will be depracted in transformers v4.45, and will be then set to `False` by default. For more details check this issue: https://github.com/huggingface/transformers/issues/31884\n",
      "  warnings.warn(\n"
     ]
    },
    {
     "name": "stdout",
     "output_type": "stream",
     "text": [
      "Sim =  0.46148812770843506\n",
      "Goal =  I am in the sitting room and I want to navigate to right after the open door.\n",
      "Instruction =  Walk through the sitting room past the picture of the mermaid.  Stop right after the open door. \n",
      "Not similar for path =  6380\n",
      "Sim =  0.22321462631225586\n",
      "Goal =  I am here, want to go to the area just past the corner.\n",
      "Instruction =  Move forward and turn left. Your goal is ahead, move forward until you reach it. \n",
      "Not similar for path =  790\n",
      "Sim =  0.5227680206298828\n",
      "Goal =  I am here and want to navigate to the glass table past the furniture arrangement.\n",
      "Instruction =  Go to the lamp. Go to the painting. Go to the round table. Go to the blue pillow. Go to the glass table. \n",
      "Not similar for path =  3070\n",
      "Total =  90\n",
      "Total Correct =  87\n",
      "Total Incorrect =  3\n"
     ]
    }
   ],
   "source": [
    "import pandas as pd\n",
    "import json\n",
    "from sentence_transformers import SentenceTransformer, util  # For embedding and similarity\n",
    "\n",
    "# Initialize the embedding model\n",
    "embedding_model = SentenceTransformer('all-MiniLM-L6-v2')  # You can choose any other suitable model\n",
    "\n",
    "\n",
    "# Similarity function\n",
    "def is_similar(embedding1, embedding2, threshold=0.55):\n",
    "    similarity = util.pytorch_cos_sim(embedding1, embedding2)\n",
    "    if(similarity.item() < threshold):\n",
    "        print(\"Sim = \",similarity.item())\n",
    "    return similarity.item() > threshold\n",
    "\n",
    "# Only checking for first training case\n",
    "r2r_dataset = pd.read_json(\"Dataset/R2R_train_updated.json\")\n",
    "r2r_dataset = r2r_dataset[r2r_dataset['scan'] == \"17DRP5sb8fy\"]\n",
    "# img_folder_path = 'Dataset/17DRP5sb8fy/matterport_color_images'\n",
    "\n",
    "total = 0\n",
    "total_correct = 0\n",
    "total_incorrect = 0\n",
    "for index, row in r2r_dataset.iterrows():\n",
    "    instructions = row['instructions']\n",
    "    goals = row['goals']\n",
    "    \n",
    "    for i in range(len(goals)):\n",
    "        total += 1\n",
    "        goal_embedding = embedding_model.encode(goals[i])\n",
    "        instruction_embedding = embedding_model.encode(instructions[i])\n",
    "        if not is_similar(goal_embedding, instruction_embedding):\n",
    "            total_incorrect += 1\n",
    "            print(\"Goal = \",goals[i])\n",
    "            print(\"Instruction = \",instructions[i])\n",
    "            print(\"Not similar for path = \",row['path_id'])\n",
    "        else:\n",
    "            total_correct += 1\n",
    "\n",
    "print(\"Total = \",total)\n",
    "print(\"Total Correct = \",total_correct)\n",
    "print(\"Total Incorrect = \",total_incorrect)\n"
   ]
  }
 ],
 "metadata": {
  "kernelspec": {
   "display_name": "Python 3",
   "language": "python",
   "name": "python3"
  },
  "language_info": {
   "codemirror_mode": {
    "name": "ipython",
    "version": 3
   },
   "file_extension": ".py",
   "mimetype": "text/x-python",
   "name": "python",
   "nbconvert_exporter": "python",
   "pygments_lexer": "ipython3",
   "version": "3.12.5"
  }
 },
 "nbformat": 4,
 "nbformat_minor": 2
}
