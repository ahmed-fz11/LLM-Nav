{
 "cells": [
  {
   "cell_type": "code",
   "execution_count": 1,
   "metadata": {},
   "outputs": [],
   "source": [
    "from qdrant_client import QdrantClient\n",
    "import os\n",
    "from dotenv import load_dotenv\n",
    "from llama_index.core import StorageContext\n",
    "from llama_index.vector_stores.qdrant import QdrantVectorStore\n",
    "from llama_index.core import VectorStoreIndex\n",
    "from llama_index.embeddings.cohere import CohereEmbedding\n",
    "\n",
    "from llama_index.core import Settings\n",
    "load_dotenv()\n",
    "\n",
    "embedding = CohereEmbedding(\n",
    "    model=\"embed-english-v3.0\",\n",
    "    api_key=os.getenv(\"COHERE_API_KEY\")\n",
    ")\n",
    "\n",
    "Settings.embed_model = embedding\n",
    "\n",
    "client=QdrantClient(url=\"http://localhost:6333\")\n",
    "vector_store = QdrantVectorStore(client=client, collection_name=\"training_examples\", show_progress=True)\n",
    "storage_context=StorageContext.from_defaults(vector_store=vector_store)\n",
    "index = VectorStoreIndex.from_vector_store(\n",
    "vector_store,\n",
    "storage_context=storage_context,\n",
    ")\n"
   ]
  },
  {
   "cell_type": "code",
   "execution_count": 2,
   "metadata": {},
   "outputs": [],
   "source": [
    "from llama_index.postprocessor.cohere_rerank import CohereRerank\n",
    "\n",
    "cohere_rerank = CohereRerank(api_key=os.getenv(\"COHERE_API_KEY\"),top_n=3)\n",
    "\n",
    "retriver=index.as_retriever(similarity_top_k=3)\n",
    "advanced_retriever=index.as_retriever(similarity_top_k=10)"
   ]
  },
  {
   "cell_type": "code",
   "execution_count": 18,
   "metadata": {},
   "outputs": [],
   "source": [
    "query_str=\"Go to the fridge\"\n",
    "response=retriver.retrieve(query_str)\n",
    "advanced_response=advanced_retriever.retrieve(query_str)\n",
    "cohere_rerank_response=cohere_rerank.postprocess_nodes(query_str=query_str, nodes=advanced_response)"
   ]
  },
  {
   "cell_type": "code",
   "execution_count": 19,
   "metadata": {},
   "outputs": [
    {
     "name": "stdout",
     "output_type": "stream",
     "text": [
      "Query:  Go to the fridge\n",
      "\n",
      "KNN response\n",
      "\n",
      "goal: I am at the living room and I want to go to the counter.\n",
      "Answer: Go straight passed the couch, turn left and go straight and wait near the counter. \n",
      "\n",
      "Advanced response\n",
      "\n",
      "goal: I am at the living room and I want to go to the counter.\n",
      "Answer: Go straight passed the couch, turn left and go straight and wait near the counter. \n",
      "\n"
     ]
    }
   ],
   "source": [
    "print(\"Query: \", query_str)\n",
    "print(\"\\nKNN response\")\n",
    "print(response[0].text)\n",
    "print(\"Advanced response\")\n",
    "print(cohere_rerank_response[0].text)"
   ]
  }
 ],
 "metadata": {
  "kernelspec": {
   "display_name": "Python 3",
   "language": "python",
   "name": "python3"
  },
  "language_info": {
   "codemirror_mode": {
    "name": "ipython",
    "version": 3
   },
   "file_extension": ".py",
   "mimetype": "text/x-python",
   "name": "python",
   "nbconvert_exporter": "python",
   "pygments_lexer": "ipython3",
   "version": "3.11.5"
  }
 },
 "nbformat": 4,
 "nbformat_minor": 2
}
